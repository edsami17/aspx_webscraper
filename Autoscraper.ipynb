{
 "cells": [
  {
   "cell_type": "code",
   "execution_count": 4,
   "id": "e600c023",
   "metadata": {},
   "outputs": [],
   "source": [
    "#Importing all the necessary packages\n",
    "from bs4 import BeautifulSoup\n",
    "import requests\n",
    "import pandas as pd\n",
    "import re\n",
    "from tqdm import tqdm"
   ]
  },
  {
   "cell_type": "code",
   "execution_count": 5,
   "id": "2365275f",
   "metadata": {},
   "outputs": [],
   "source": [
    "#Ignoring all warnings\n",
    "import warnings\n",
    "warnings.filterwarnings('ignore')"
   ]
  },
  {
   "cell_type": "code",
   "execution_count": 6,
   "id": "ee34aebf",
   "metadata": {},
   "outputs": [],
   "source": [
    "url = 'https://citizen.mppolice.gov.in/Custom_Arrested_Person.aspx'"
   ]
  },
  {
   "cell_type": "code",
   "execution_count": 7,
   "id": "c2279b3a",
   "metadata": {},
   "outputs": [],
   "source": [
    "list_days = list(range(1,32))\n",
    "days = [\"{:02}\".format(num) for num in list_days]"
   ]
  },
  {
   "cell_type": "code",
   "execution_count": 8,
   "id": "fef52381",
   "metadata": {},
   "outputs": [],
   "source": [
    "list_months = list(range(1,13))\n",
    "months = [\"{:02}\".format(num) for num in list_months]"
   ]
  },
  {
   "cell_type": "code",
   "execution_count": 9,
   "id": "a22fff07",
   "metadata": {},
   "outputs": [],
   "source": [
    "#Enter range of required years here \n",
    "list_years = list(range(2016,2021))\n",
    "years = [\"{:02}\".format(num) for num in list_years]"
   ]
  },
  {
   "cell_type": "code",
   "execution_count": 10,
   "id": "044f765b",
   "metadata": {},
   "outputs": [],
   "source": [
    "#DON'T CHANGE!\n",
    "#Function to scrape the first page of every day in a given year\n",
    "def all_days(url, month, year, district):\n",
    "    with requests.Session() as req:\n",
    "        req.headers['user-agent'] = 'Mozilla/5.0'\n",
    "        r = req.get(url, verify=False)\n",
    "        soup = BeautifulSoup(r.content, 'lxml')\n",
    "        df = None\n",
    "        for day in days:\n",
    "            date = '{}/{}/{}'.format(day, month, year)\n",
    "            payload = {\n",
    "            #     \"__LASTFOCUS\": \"\"\n",
    "                \"__EVENTTARGET\": \"\",\n",
    "                '__EVENTARGUMENT': '',\n",
    "                \"ctl00$hdnSessionIdleTime\": \"\",\n",
    "                \"ctl00$hdnUserUniqueId\": \"\",\n",
    "                \"ctl00$ContentPlaceHolder1$ddlDistrict\": \"{}\".format(district),\n",
    "                \"ctl00$ContentPlaceHolder1$ddlPoliceStation\": \"\",\n",
    "                \"ctl00$ContentPlaceHolder1$txtStartDate\": \"{}\".format(date),\n",
    "                \"ctl00$ContentPlaceHolder1$meeSecurityAnswer1_ClientState\": \"\",\n",
    "                \"ctl00$ContentPlaceHolder1$txtEndDate\": \"{}\".format(date),\n",
    "                \"ctl00$ContentPlaceHolder1$txtEndDate_MaskedEditExtender_ClientState\": \"\",\n",
    "                \"ctl00$ContentPlaceHolder1$txtmissing_name\":\"\",\n",
    "                \"ctl00$ContentPlaceHolder1$btnSearch\": \"खोजें\"\n",
    "\n",
    "            }\n",
    "            payload['__VIEWSTATE'] = soup.find(\"input\", id=\"__VIEWSTATE\").get(\"value\")\n",
    "            payload['__EVENTVALIDATION'] = soup.find(\n",
    "            \"input\", id=\"__EVENTVALIDATION\").get(\"value\")\n",
    "            r = req.post(url, data=payload)\n",
    "            try:\n",
    "                df1 = pd.read_html(r.content, attrs={\n",
    "                              'id': 'ContentPlaceHolder1_GrdFoundPS'})[0]\n",
    "                df1['date'] = date\n",
    "                df1['year'] = year  \n",
    "                if df is None:\n",
    "                    df = df1\n",
    "                else:\n",
    "                    df = df.append(df1)\n",
    "            except:\n",
    "                pass \n",
    "        return df"
   ]
  },
  {
   "cell_type": "code",
   "execution_count": 191,
   "id": "84208904",
   "metadata": {},
   "outputs": [],
   "source": [
    "#DON'T CHANGE!\n",
    "def missing_days(url, district, page, missing_dates):\n",
    "    with requests.Session() as req:\n",
    "        req.headers['user-agent'] = 'Mozilla/5.0'\n",
    "        r = req.get(url, verify=False)\n",
    "        soup = BeautifulSoup(r.content, 'lxml')\n",
    "        df = None\n",
    "        for day in tqdm(missing_dates):\n",
    "            payload = {\n",
    "            #     \"__LASTFOCUS\": \"\"\n",
    "                \"__EVENTTARGET\": \"ctl00$ContentPlaceHolder1$GrdFoundPS\",\n",
    "                '__EVENTARGUMENT': 'Page${}'.format(page), #Change to 3 when required\n",
    "                \"ctl00$hdnSessionIdleTime\": \"\",\n",
    "                \"ctl00$hdnUserUniqueId\": \"\",\n",
    "                \"ctl00$ContentPlaceHolder1$ddlDistrict\": \"{}\".format(district),\n",
    "                \"ctl00$ContentPlaceHolder1$ddlPoliceStation\": \"\",\n",
    "                \"ctl00$ContentPlaceHolder1$txtStartDate\": \"{}\".format(day),\n",
    "                \"ctl00$ContentPlaceHolder1$meeSecurityAnswer1_ClientState\": \"\",\n",
    "                \"ctl00$ContentPlaceHolder1$txtEndDate\": \"{}\".format(day),\n",
    "                \"ctl00$ContentPlaceHolder1$txtEndDate_MaskedEditExtender_ClientState\": \"\",\n",
    "                \"ctl00$ContentPlaceHolder1$txtmissing_name\":\"\",\n",
    "#                 \"ctl00$ContentPlaceHolder1$btnSearch\": \"खोजें\"\n",
    "\n",
    "            }\n",
    "            payload['__VIEWSTATE'] = soup.find(\"input\", id=\"__VIEWSTATE\").get(\"value\")\n",
    "            payload['__EVENTVALIDATION'] = soup.find(\n",
    "            \"input\", id=\"__EVENTVALIDATION\").get(\"value\")\n",
    "            r = req.post(url, data=payload)\n",
    "            try:\n",
    "                df1 = pd.read_html(r.content, attrs={\n",
    "                              'id': 'ContentPlaceHolder1_GrdFoundPS'})[0]\n",
    "                df1['date'] = day\n",
    "                year = re.findall(r'\\d+/\\d+/(.+)', day)\n",
    "                df1['year'] = year[0] \n",
    "                if df is None:\n",
    "                    df = df1\n",
    "                else:\n",
    "                    df = df.append(df1)\n",
    "            except:\n",
    "                pass\n",
    "#         df['year'] = year    \n",
    "        return df"
   ]
  },
  {
   "cell_type": "code",
   "execution_count": 105,
   "id": "67331d03",
   "metadata": {},
   "outputs": [],
   "source": [
    "def p_ones(district_no):\n",
    "    district = None\n",
    "    for year in tqdm(years):\n",
    "        for month in tqdm(months):\n",
    "            df = all_days(url, month, year, district_no) #Enter district code here\n",
    "            if district is None:\n",
    "                district = df\n",
    "            else:\n",
    "                district = district.append(df)\n",
    "    return district"
   ]
  },
  {
   "cell_type": "code",
   "execution_count": 157,
   "id": "fdd0b478",
   "metadata": {},
   "outputs": [],
   "source": [
    "# def p_rest(district, district_no):\n",
    "#     zila = district.जिला.values[0]            \n",
    "#     missing_dates_df = district[district.जिला != zila]\n",
    "# #     missing_dates = missing_dates_df.date.values\n",
    "#     p_t = missing_dates_df.जिला.unique()\n",
    "#     p_n = sorted(p_t, key = len)\n",
    "#     page = 2\n",
    "#     md = None\n",
    "#     for i in range(len(p_n)):\n",
    "#         missing_dates = missing_dates_df.date.values #new\n",
    "#         if len(missing_dates) >= 1:\n",
    "#             df_2 = missing_days(url, district_no, page)\n",
    "#             page += 1\n",
    "# #             missing_dates_df = missing_dates_df[missing_dates_df.जिला != p_n[i]]\n",
    "# #             missing_dates = missing_dates_df.date.values\n",
    "#             if md is None:\n",
    "#                 md = df_2\n",
    "#             else:\n",
    "#                 md = md.append(df_2)\n",
    "#         missing_dates_df = missing_dates_df[missing_dates_df.जिला != p_n[i]]\n",
    "#         missing_dates = missing_dates_df.date.values\n",
    "#         return md"
   ]
  },
  {
   "cell_type": "code",
   "execution_count": 198,
   "id": "40f6e733",
   "metadata": {},
   "outputs": [],
   "source": [
    "def p_rest(district, district_no):\n",
    "    zila = district.जिला.values[0]            \n",
    "    missing_dates_df = district[district.जिला != zila]\n",
    "    missing_dates = missing_dates_df.date.values\n",
    "    p_t = missing_dates_df.जिला.unique()\n",
    "    p_n = sorted(p_t, key = len)\n",
    "    sage = 2\n",
    "    md = None\n",
    "    for i in range(len(p_n)):\n",
    "        df_2 = missing_days(url, district_no, sage, missing_dates)\n",
    "        missing_dates_df = missing_dates_df[missing_dates_df.जिला != p_n[i]]\n",
    "#         print(len(missing_dates_df))\n",
    "#         print(p_n[i])\n",
    "        missing_dates = missing_dates_df.date.values\n",
    "#         print(len(missing_dates))\n",
    "        sage += 1\n",
    "#         print(sage)\n",
    "        if md is None:\n",
    "                md = df_2\n",
    "        else:\n",
    "                md = md.append(df_2)\n",
    "    return md"
   ]
  },
  {
   "cell_type": "code",
   "execution_count": 212,
   "id": "0737b2bf",
   "metadata": {},
   "outputs": [],
   "source": [
    "def autoscraper(district_no):\n",
    "    o = p_ones(district_no)\n",
    "    m = p_rest(o, district_no)\n",
    "    om = o.append(m)\n",
    "    z = om.जिला.values[0]\n",
    "    om = om[om.जिला == z]\n",
    "    return om "
   ]
  },
  {
   "cell_type": "code",
   "execution_count": null,
   "id": "e1e6fa12",
   "metadata": {},
   "outputs": [
    {
     "name": "stderr",
     "output_type": "stream",
     "text": [
      "  0%|          | 0/5 [00:00<?, ?it/s]\n",
      "  0%|          | 0/12 [00:00<?, ?it/s]\u001b[A\n",
      "  8%|▊         | 1/12 [02:26<26:54, 146.81s/it]\u001b[A\n",
      " 17%|█▋        | 2/12 [04:16<20:50, 125.06s/it]\u001b[A\n",
      " 25%|██▌       | 3/12 [05:46<16:18, 108.78s/it]\u001b[A\n",
      " 33%|███▎      | 4/12 [11:00<25:18, 189.80s/it]\u001b[A\n",
      " 42%|████▏     | 5/12 [13:42<20:59, 179.87s/it]\u001b[A\n",
      " 50%|█████     | 6/12 [14:52<14:15, 142.54s/it]\u001b[A\n",
      " 58%|█████▊    | 7/12 [16:08<10:03, 120.67s/it]\u001b[A\n",
      " 67%|██████▋   | 8/12 [16:49<06:22, 95.55s/it] \u001b[A\n",
      " 75%|███████▌  | 9/12 [17:43<04:07, 82.56s/it]\u001b[A\n",
      " 83%|████████▎ | 10/12 [18:29<02:22, 71.24s/it]\u001b[A\n",
      " 92%|█████████▏| 11/12 [19:32<01:08, 68.60s/it]\u001b[A\n",
      "100%|██████████| 12/12 [20:42<00:00, 103.55s/it][A\n",
      " 20%|██        | 1/5 [20:42<1:22:50, 1242.64s/it]\n",
      "  0%|          | 0/12 [00:00<?, ?it/s]\u001b[A\n",
      "  8%|▊         | 1/12 [01:15<13:48, 75.31s/it]\u001b[A\n",
      " 17%|█▋        | 2/12 [02:19<11:24, 68.48s/it]\u001b[A\n",
      " 25%|██▌       | 3/12 [03:44<11:25, 76.18s/it]\u001b[A\n",
      " 33%|███▎      | 4/12 [05:31<11:46, 88.26s/it]\u001b[A\n",
      " 42%|████▏     | 5/12 [07:52<12:31, 107.30s/it]\u001b[A"
     ]
    }
   ],
   "source": [
    "list_of_districts = ['21338','21369','21304',\n",
    "                    '21315','21357','21370','21350','21351']\n",
    "for jj in list_of_districts:\n",
    "    dd = autoscraper(jj)\n",
    "    dd.to_excel('df_{}.xlsx'.format(jj), index = False)\n",
    "    dd.to_csv('df_{}.csv'.format(jj), index = False)"
   ]
  },
  {
   "cell_type": "code",
   "execution_count": 217,
   "id": "6742c414",
   "metadata": {},
   "outputs": [
    {
     "data": {
      "text/plain": [
       "12"
      ]
     },
     "execution_count": 217,
     "metadata": {},
     "output_type": "execute_result"
    }
   ],
   "source": [
    "len(list_of_districts)"
   ]
  },
  {
   "cell_type": "code",
   "execution_count": 215,
   "id": "d0a17850",
   "metadata": {},
   "outputs": [
    {
     "data": {
      "text/html": [
       "<div>\n",
       "<style scoped>\n",
       "    .dataframe tbody tr th:only-of-type {\n",
       "        vertical-align: middle;\n",
       "    }\n",
       "\n",
       "    .dataframe tbody tr th {\n",
       "        vertical-align: top;\n",
       "    }\n",
       "\n",
       "    .dataframe thead th {\n",
       "        text-align: right;\n",
       "    }\n",
       "</style>\n",
       "<table border=\"1\" class=\"dataframe\">\n",
       "  <thead>\n",
       "    <tr style=\"text-align: right;\">\n",
       "      <th></th>\n",
       "      <th>क्र.सं.</th>\n",
       "      <th>जिला</th>\n",
       "      <th>थाना</th>\n",
       "      <th>गिरफ्तार व्यक्ति का नाम</th>\n",
       "      <th>धारा एबं अधिनियम</th>\n",
       "      <th>पूछताछ अधिकारी के नाम</th>\n",
       "      <th>पूछताछ अधिकारी के पद</th>\n",
       "      <th>date</th>\n",
       "      <th>year</th>\n",
       "    </tr>\n",
       "  </thead>\n",
       "  <tbody>\n",
       "    <tr>\n",
       "      <th>0</th>\n",
       "      <td>1</td>\n",
       "      <td>उमरिया</td>\n",
       "      <td>नौरोजाबाद</td>\n",
       "      <td>विक्रम महोबिया</td>\n",
       "      <td>म.प्र. आबकारी अधिनियम 1915-34(1)</td>\n",
       "      <td>SHIVSHANKAR SINGH</td>\n",
       "      <td>SI (Sub-Inspector)</td>\n",
       "      <td>01/01/2016</td>\n",
       "      <td>2016</td>\n",
       "    </tr>\n",
       "    <tr>\n",
       "      <th>0</th>\n",
       "      <td>1</td>\n",
       "      <td>उमरिया</td>\n",
       "      <td>मानपुर</td>\n",
       "      <td>राजेश खटीक</td>\n",
       "      <td>भा दं सं 1860-294,भा दं सं 1860-323,भा दं सं 1...</td>\n",
       "      <td>SOHAN SINGH</td>\n",
       "      <td>HC (Head Constable)</td>\n",
       "      <td>02/01/2016</td>\n",
       "      <td>2016</td>\n",
       "    </tr>\n",
       "    <tr>\n",
       "      <th>0</th>\n",
       "      <td>1</td>\n",
       "      <td>उमरिया</td>\n",
       "      <td>चंदिया</td>\n",
       "      <td>बस क्रं.MP54P0203 का चालक पुष्पराज सिंह</td>\n",
       "      <td>भा दं सं 1860-279,भा दं सं 1860-337</td>\n",
       "      <td>RAJENDRA PRASAD YADAV</td>\n",
       "      <td>Asst. SI (Assistant Sub-Inspector)</td>\n",
       "      <td>03/01/2016</td>\n",
       "      <td>2016</td>\n",
       "    </tr>\n",
       "    <tr>\n",
       "      <th>1</th>\n",
       "      <td>2</td>\n",
       "      <td>उमरिया</td>\n",
       "      <td>मानपुर</td>\n",
       "      <td>रामसखा यादव</td>\n",
       "      <td>भा दं सं 1860-451,भा दं सं 1860-294,भा दं सं 1...</td>\n",
       "      <td>SHIV SHANKAR MISHRA</td>\n",
       "      <td>SI (Sub-Inspector)</td>\n",
       "      <td>03/01/2016</td>\n",
       "      <td>2016</td>\n",
       "    </tr>\n",
       "    <tr>\n",
       "      <th>0</th>\n",
       "      <td>1</td>\n",
       "      <td>उमरिया</td>\n",
       "      <td>चंदिया</td>\n",
       "      <td>मनोज यादव</td>\n",
       "      <td>भा दं सं 1860-304-A</td>\n",
       "      <td>RAJENDRA PRASAD YADAV</td>\n",
       "      <td>Asst. SI (Assistant Sub-Inspector)</td>\n",
       "      <td>04/01/2016</td>\n",
       "      <td>2016</td>\n",
       "    </tr>\n",
       "    <tr>\n",
       "      <th>...</th>\n",
       "      <td>...</td>\n",
       "      <td>...</td>\n",
       "      <td>...</td>\n",
       "      <td>...</td>\n",
       "      <td>...</td>\n",
       "      <td>...</td>\n",
       "      <td>...</td>\n",
       "      <td>...</td>\n",
       "      <td>...</td>\n",
       "    </tr>\n",
       "    <tr>\n",
       "      <th>10</th>\n",
       "      <td>71</td>\n",
       "      <td>उमरिया</td>\n",
       "      <td>उमरिया</td>\n",
       "      <td>अनिल कोल उम्र 19 वर्ष</td>\n",
       "      <td>पब्लिक गेब्लिंग एक्ट, 1867-13</td>\n",
       "      <td>shashank rana</td>\n",
       "      <td>SI (Sub-Inspector)</td>\n",
       "      <td>08/11/2018</td>\n",
       "      <td>2018</td>\n",
       "    </tr>\n",
       "    <tr>\n",
       "      <th>11</th>\n",
       "      <td>72</td>\n",
       "      <td>उमरिया</td>\n",
       "      <td>उमरिया</td>\n",
       "      <td>रज्जन कोल उम्र 27 वर्ष</td>\n",
       "      <td>पब्लिक गेब्लिंग एक्ट, 1867-13</td>\n",
       "      <td>shashank rana</td>\n",
       "      <td>SI (Sub-Inspector)</td>\n",
       "      <td>08/11/2018</td>\n",
       "      <td>2018</td>\n",
       "    </tr>\n",
       "    <tr>\n",
       "      <th>12</th>\n",
       "      <td>73</td>\n",
       "      <td>उमरिया</td>\n",
       "      <td>उमरिया</td>\n",
       "      <td>आशीष हरिजन उम्र 26 वर्ष</td>\n",
       "      <td>पब्लिक गेब्लिंग एक्ट, 1867-13</td>\n",
       "      <td>shashank rana</td>\n",
       "      <td>SI (Sub-Inspector)</td>\n",
       "      <td>08/11/2018</td>\n",
       "      <td>2018</td>\n",
       "    </tr>\n",
       "    <tr>\n",
       "      <th>13</th>\n",
       "      <td>74</td>\n",
       "      <td>उमरिया</td>\n",
       "      <td>उमरिया</td>\n",
       "      <td>विकास कुमार उम्र 19 वर्ष</td>\n",
       "      <td>पब्लिक गेब्लिंग एक्ट, 1867-13</td>\n",
       "      <td>shashank rana</td>\n",
       "      <td>SI (Sub-Inspector)</td>\n",
       "      <td>08/11/2018</td>\n",
       "      <td>2018</td>\n",
       "    </tr>\n",
       "    <tr>\n",
       "      <th>14</th>\n",
       "      <td>75</td>\n",
       "      <td>उमरिया</td>\n",
       "      <td>उमरिया</td>\n",
       "      <td>राजेन्द्र कुशवाह उम्र 28 वर्ष</td>\n",
       "      <td>पब्लिक गेब्लिंग एक्ट, 1867-13</td>\n",
       "      <td>shashank rana</td>\n",
       "      <td>SI (Sub-Inspector)</td>\n",
       "      <td>08/11/2018</td>\n",
       "      <td>2018</td>\n",
       "    </tr>\n",
       "  </tbody>\n",
       "</table>\n",
       "<p>11867 rows × 9 columns</p>\n",
       "</div>"
      ],
      "text/plain": [
       "    क्र.सं.    जिला       थाना                  गिरफ्तार व्यक्ति का नाम  \\\n",
       "0         1  उमरिया  नौरोजाबाद                           विक्रम महोबिया   \n",
       "0         1  उमरिया     मानपुर                               राजेश खटीक   \n",
       "0         1  उमरिया     चंदिया  बस क्रं.MP54P0203 का चालक पुष्पराज सिंह   \n",
       "1         2  उमरिया     मानपुर                              रामसखा यादव   \n",
       "0         1  उमरिया     चंदिया                                मनोज यादव   \n",
       "..      ...     ...        ...                                      ...   \n",
       "10       71  उमरिया     उमरिया                    अनिल कोल उम्र 19 वर्ष   \n",
       "11       72  उमरिया     उमरिया                   रज्जन कोल उम्र 27 वर्ष   \n",
       "12       73  उमरिया     उमरिया                  आशीष हरिजन उम्र 26 वर्ष   \n",
       "13       74  उमरिया     उमरिया                 विकास कुमार उम्र 19 वर्ष   \n",
       "14       75  उमरिया     उमरिया            राजेन्द्र कुशवाह उम्र 28 वर्ष   \n",
       "\n",
       "                                     धारा एबं अधिनियम  पूछताछ अधिकारी के नाम  \\\n",
       "0                    म.प्र. आबकारी अधिनियम 1915-34(1)      SHIVSHANKAR SINGH   \n",
       "0   भा दं सं 1860-294,भा दं सं 1860-323,भा दं सं 1...            SOHAN SINGH   \n",
       "0                 भा दं सं 1860-279,भा दं सं 1860-337  RAJENDRA PRASAD YADAV   \n",
       "1   भा दं सं 1860-451,भा दं सं 1860-294,भा दं सं 1...    SHIV SHANKAR MISHRA   \n",
       "0                                 भा दं सं 1860-304-A  RAJENDRA PRASAD YADAV   \n",
       "..                                                ...                    ...   \n",
       "10                      पब्लिक गेब्लिंग एक्ट, 1867-13          shashank rana   \n",
       "11                      पब्लिक गेब्लिंग एक्ट, 1867-13          shashank rana   \n",
       "12                      पब्लिक गेब्लिंग एक्ट, 1867-13          shashank rana   \n",
       "13                      पब्लिक गेब्लिंग एक्ट, 1867-13          shashank rana   \n",
       "14                      पब्लिक गेब्लिंग एक्ट, 1867-13          shashank rana   \n",
       "\n",
       "                  पूछताछ अधिकारी के पद        date  year  \n",
       "0                   SI (Sub-Inspector)  01/01/2016  2016  \n",
       "0                  HC (Head Constable)  02/01/2016  2016  \n",
       "0   Asst. SI (Assistant Sub-Inspector)  03/01/2016  2016  \n",
       "1                   SI (Sub-Inspector)  03/01/2016  2016  \n",
       "0   Asst. SI (Assistant Sub-Inspector)  04/01/2016  2016  \n",
       "..                                 ...         ...   ...  \n",
       "10                  SI (Sub-Inspector)  08/11/2018  2018  \n",
       "11                  SI (Sub-Inspector)  08/11/2018  2018  \n",
       "12                  SI (Sub-Inspector)  08/11/2018  2018  \n",
       "13                  SI (Sub-Inspector)  08/11/2018  2018  \n",
       "14                  SI (Sub-Inspector)  08/11/2018  2018  \n",
       "\n",
       "[11867 rows x 9 columns]"
      ]
     },
     "execution_count": 215,
     "metadata": {},
     "output_type": "execute_result"
    }
   ],
   "source": [
    "umaria.drop_duplicates()"
   ]
  },
  {
   "cell_type": "code",
   "execution_count": 91,
   "id": "39d3edac",
   "metadata": {},
   "outputs": [],
   "source": [
    "katni = katni.rename(columns={'जिला':'District','थाना':'PS','गिरफ्तार व्यक्ति का नाम':'Name',\n",
    "                              'धारा एबं अधिनियम':'Offence','पूछताछ अधिकारी के नाम':'IO',\n",
    "                             'पूछताछ अधिकारी के पद':'Designation'})"
   ]
  },
  {
   "cell_type": "code",
   "execution_count": 92,
   "id": "75766429",
   "metadata": {},
   "outputs": [],
   "source": [
    "katni['last_name'] = katni['Name'].str.split().str[-1]"
   ]
  },
  {
   "cell_type": "code",
   "execution_count": 93,
   "id": "a97c9597",
   "metadata": {},
   "outputs": [],
   "source": [
    "katni.drop('क्र.सं.', axis=1, inplace=True)"
   ]
  },
  {
   "cell_type": "code",
   "execution_count": 94,
   "id": "b29a6171",
   "metadata": {},
   "outputs": [],
   "source": [
    "#Saving to csv and excel\n",
    "katni.to_excel('katni.xlsx', index = False)\n",
    "katni.to_csv('katni.csv', index = False)"
   ]
  },
  {
   "cell_type": "code",
   "execution_count": 95,
   "id": "e5ef6056",
   "metadata": {},
   "outputs": [],
   "source": [
    "katni.to_excel(r'C:\\Users\\sami\\Documents\\Python Scripts\\CPA Project\\WPA\\katni.xlsx', index = False)"
   ]
  },
  {
   "cell_type": "code",
   "execution_count": 57,
   "id": "a29e2a64",
   "metadata": {},
   "outputs": [
    {
     "data": {
      "text/plain": [
       "'अशोक नगर'"
      ]
     },
     "execution_count": 57,
     "metadata": {},
     "output_type": "execute_result"
    }
   ],
   "source": []
  },
  {
   "cell_type": "code",
   "execution_count": null,
   "id": "b12d7794",
   "metadata": {},
   "outputs": [],
   "source": []
  },
  {
   "cell_type": "code",
   "execution_count": null,
   "id": "6aa12c54",
   "metadata": {},
   "outputs": [],
   "source": []
  },
  {
   "cell_type": "code",
   "execution_count": null,
   "id": "f6de452a",
   "metadata": {},
   "outputs": [],
   "source": []
  },
  {
   "cell_type": "code",
   "execution_count": null,
   "id": "70a31cae",
   "metadata": {},
   "outputs": [],
   "source": []
  },
  {
   "cell_type": "code",
   "execution_count": null,
   "id": "9ea3e898",
   "metadata": {},
   "outputs": [],
   "source": []
  },
  {
   "cell_type": "code",
   "execution_count": null,
   "id": "323b4694",
   "metadata": {},
   "outputs": [],
   "source": []
  },
  {
   "cell_type": "code",
   "execution_count": null,
   "id": "5a11cc08",
   "metadata": {},
   "outputs": [],
   "source": []
  },
  {
   "cell_type": "code",
   "execution_count": null,
   "id": "ce653bad",
   "metadata": {},
   "outputs": [],
   "source": []
  },
  {
   "cell_type": "code",
   "execution_count": null,
   "id": "1793590e",
   "metadata": {},
   "outputs": [],
   "source": []
  },
  {
   "cell_type": "code",
   "execution_count": null,
   "id": "e2c9e77a",
   "metadata": {},
   "outputs": [],
   "source": []
  },
  {
   "cell_type": "code",
   "execution_count": null,
   "id": "2fced77b",
   "metadata": {},
   "outputs": [],
   "source": []
  },
  {
   "cell_type": "code",
   "execution_count": null,
   "id": "798f3bbf",
   "metadata": {},
   "outputs": [],
   "source": []
  },
  {
   "cell_type": "code",
   "execution_count": null,
   "id": "4c6cdedf",
   "metadata": {},
   "outputs": [],
   "source": []
  },
  {
   "cell_type": "code",
   "execution_count": null,
   "id": "d8701165",
   "metadata": {},
   "outputs": [],
   "source": []
  },
  {
   "cell_type": "code",
   "execution_count": null,
   "id": "3af68d67",
   "metadata": {},
   "outputs": [],
   "source": []
  },
  {
   "cell_type": "code",
   "execution_count": null,
   "id": "e39b029b",
   "metadata": {},
   "outputs": [],
   "source": []
  },
  {
   "cell_type": "code",
   "execution_count": null,
   "id": "fda57b05",
   "metadata": {},
   "outputs": [],
   "source": []
  },
  {
   "cell_type": "code",
   "execution_count": null,
   "id": "8d18910c",
   "metadata": {},
   "outputs": [],
   "source": []
  },
  {
   "cell_type": "code",
   "execution_count": null,
   "id": "43935f5e",
   "metadata": {},
   "outputs": [],
   "source": []
  },
  {
   "cell_type": "code",
   "execution_count": null,
   "id": "e5ced108",
   "metadata": {},
   "outputs": [],
   "source": []
  },
  {
   "cell_type": "code",
   "execution_count": null,
   "id": "1910524b",
   "metadata": {},
   "outputs": [],
   "source": []
  },
  {
   "cell_type": "code",
   "execution_count": null,
   "id": "baeea4ed",
   "metadata": {},
   "outputs": [],
   "source": []
  },
  {
   "cell_type": "code",
   "execution_count": null,
   "id": "a57586c0",
   "metadata": {},
   "outputs": [],
   "source": []
  },
  {
   "cell_type": "code",
   "execution_count": null,
   "id": "8ffbb3e4",
   "metadata": {},
   "outputs": [],
   "source": []
  }
 ],
 "metadata": {
  "kernelspec": {
   "display_name": "Python 3",
   "language": "python",
   "name": "python3"
  },
  "language_info": {
   "codemirror_mode": {
    "name": "ipython",
    "version": 3
   },
   "file_extension": ".py",
   "mimetype": "text/x-python",
   "name": "python",
   "nbconvert_exporter": "python",
   "pygments_lexer": "ipython3",
   "version": "3.8.8"
  }
 },
 "nbformat": 4,
 "nbformat_minor": 5
}
